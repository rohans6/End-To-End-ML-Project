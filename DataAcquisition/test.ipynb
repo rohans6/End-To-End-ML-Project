{
 "cells": [
  {
   "cell_type": "code",
   "execution_count": null,
   "metadata": {},
   "outputs": [],
   "source": [
    "import pandas as pd\n",
    "from Confg import *\n",
    "import numpy as np\n",
    "import os"
   ]
  },
  {
   "cell_type": "code",
   "execution_count": null,
   "metadata": {},
   "outputs": [],
   "source": [
    "from confluent_kafka import Producer\n",
    "from confluent_kafka.serialization import SerializationContext, MessageField\n",
    "from confluent_kafka.schema_registry import SchemaRegistryClient\n",
    "from confluent_kafka.schema_registry.json_schema import JSONSerializer\n",
    "from confluent_kafka.serialization import StringSerializer"
   ]
  },
  {
   "cell_type": "code",
   "execution_count": null,
   "metadata": {},
   "outputs": [],
   "source": [
    "data_directory='D:\\DataScience\\Projects\\SensorProject\\End-To-End-ML-Project\\Data'"
   ]
  },
  {
   "cell_type": "code",
   "execution_count": null,
   "metadata": {},
   "outputs": [],
   "source": [
    "!pwd"
   ]
  },
  {
   "cell_type": "code",
   "execution_count": null,
   "metadata": {},
   "outputs": [],
   "source": [
    "for topic in os.listdir(data_directory):\n",
    "    topic_path=os.path.join(data_directory, topic)\n",
    "    for file in os.listdir(topic_path):\n",
    "\n",
    "        df=pd.read_csv(os.path.join(topic_path,file),chunksize=1000)\n",
    "        for chunk in df:\n",
    "            for index,row in chunk.iterrows():\n",
    "                data=row.to_dict()\n",
    "                # SEND THIS DATA TO THE KAFKA TOPIC\n",
    "                \n",
    "        \n"
   ]
  },
  {
   "cell_type": "code",
   "execution_count": null,
   "metadata": {},
   "outputs": [],
   "source": [
    "df=chunk.head()"
   ]
  },
  {
   "cell_type": "code",
   "execution_count": null,
   "metadata": {},
   "outputs": [],
   "source": [
    "df"
   ]
  },
  {
   "cell_type": "code",
   "execution_count": null,
   "metadata": {},
   "outputs": [],
   "source": [
    "schemaregistryclient=SchemaRegistryClient(schema_config)\n"
   ]
  },
  {
   "cell_type": "code",
   "execution_count": null,
   "metadata": {},
   "outputs": [],
   "source": [
    "# Create schema string\n",
    "import json\n",
    "with open(os.path.join(topic_path,file),'r') as file_object:\n",
    "    columns=file_object.readline().strip().split(',')\n",
    "schema_string={ \"$id\": \"http://example.com/myURI.schema.json\",\n",
    "            \"$schema\": \"http://json-schema.org/draft-07/schema#\",\n",
    "            \"additionalProperties\": False,\n",
    "            \"description\": \"Sample schema to help you get started.\",\n",
    "            \"properties\": dict(),\n",
    "            \"title\": \"SampleRecord\",\n",
    "            \"type\": \"object\"}\n",
    "for col in columns:\n",
    "    schema_string['properties'].update({col: {\"type\": \"string\",\"description\": \"This is a string\"}})\n",
    "schema_string=json.dumps(schema_string)\n",
    "print(schema_string)"
   ]
  },
  {
   "cell_type": "code",
   "execution_count": null,
   "metadata": {},
   "outputs": [],
   "source": [
    "# Setup schema registry client and serializer\n",
    "schemaregistryclient=SchemaRegistryClient(schema_config)\n",
    "json_serializer=JSONSerializer(schema_string,schemaregistryclient)\n",
    "string_serializer = StringSerializer('utf_8')"
   ]
  },
  {
   "cell_type": "code",
   "execution_count": null,
   "metadata": {},
   "outputs": [],
   "source": [
    "#Setup producer\n",
    "producer=Producer(kafka_config)"
   ]
  },
  {
   "cell_type": "code",
   "execution_count": null,
   "metadata": {},
   "outputs": [],
   "source": [
    "# SENDING DATA\n",
    "from uuid import uuid4\n",
    "topic='sensor_topic1'\n",
    "for index,row in df.iterrows():\n",
    "    data=row.astype(str).to_dict()\n",
    "    producer.produce(topic=topic,key=string_serializer(str(uuid4()), data),value=json_serializer(data,SerializationContext(topic,MessageField.VALUE)))\n",
    "\n"
   ]
  },
  {
   "cell_type": "code",
   "execution_count": null,
   "metadata": {},
   "outputs": [],
   "source": [
    "from uuid import uuid4"
   ]
  },
  {
   "cell_type": "code",
   "execution_count": null,
   "metadata": {},
   "outputs": [],
   "source": [
    "row.astype(str).to_dict()"
   ]
  },
  {
   "cell_type": "code",
   "execution_count": null,
   "metadata": {},
   "outputs": [],
   "source": [
    "df"
   ]
  },
  {
   "cell_type": "code",
   "execution_count": 3,
   "metadata": {},
   "outputs": [],
   "source": [
    "from Database import mongodb"
   ]
  },
  {
   "cell_type": "code",
   "execution_count": null,
   "metadata": {},
   "outputs": [],
   "source": [
    "a=sql.SQL()"
   ]
  },
  {
   "cell_type": "code",
   "execution_count": 4,
   "metadata": {},
   "outputs": [],
   "source": [
    "! cd ."
   ]
  },
  {
   "cell_type": "code",
   "execution_count": 10,
   "metadata": {},
   "outputs": [],
   "source": [
    "!cd .."
   ]
  }
 ],
 "metadata": {
  "kernelspec": {
   "display_name": "sensorfault",
   "language": "python",
   "name": "python3"
  },
  "language_info": {
   "codemirror_mode": {
    "name": "ipython",
    "version": 3
   },
   "file_extension": ".py",
   "mimetype": "text/x-python",
   "name": "python",
   "nbconvert_exporter": "python",
   "pygments_lexer": "ipython3",
   "version": "3.11.4"
  }
 },
 "nbformat": 4,
 "nbformat_minor": 2
}
