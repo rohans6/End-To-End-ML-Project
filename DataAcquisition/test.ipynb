{
 "cells": [
  {
   "cell_type": "code",
   "execution_count": 2,
   "metadata": {},
   "outputs": [
    {
     "name": "stdout",
     "output_type": "stream",
     "text": [
      "{'url': 'https://psrc-57o65q.us-west2.gcp.confluent.cloud', 'basic.auth.user.info': 'XMZXIFFUPFIQUZB5:pIenb1hEqN4AY6GlpmnHbCn26bkAG9ayv+QmUCvWPbsM+GNh08gnyPRSK1ov2rIe'}\n",
      "{'bootstrap.servers': 'pkc-12576z.us-west2.gcp.confluent.cloud:9092', 'security.protocol': 'SASL_SSL', 'sasl.mechanisms': 'PLAIN', 'sasl.username': 'OHLXG66PJJDAOZTA', 'sasl.password': 'H+w0JfC59R/oVMcADBF7e7rEeiR6XdXTsdZtlA4gXSrbUudQoFrOA2ol5O/zl9HS', 'compression.type': 'gzip', 'batch.size': 16384}\n",
      "{\"$id\": \"http://example.com/myURI.schema.json\", \"$schema\": \"http://json-schema.org/draft-07/schema#\", \"type\": \"array\", \"items\": {\"type\": \"object\", \"properties\": {\"class\": {\"type\": \"string\", \"description\": \"This is a string\"}, \"aa_000\": {\"type\": \"string\", \"description\": \"This is a string\"}, \"ab_000\": {\"type\": \"string\", \"description\": \"This is a string\"}, \"ac_000\": {\"type\": \"string\", \"description\": \"This is a string\"}, \"ad_000\": {\"type\": \"string\", \"description\": \"This is a string\"}, \"ae_000\": {\"type\": \"string\", \"description\": \"This is a string\"}, \"af_000\": {\"type\": \"string\", \"description\": \"This is a string\"}, \"ag_000\": {\"type\": \"string\", \"description\": \"This is a string\"}, \"ag_001\": {\"type\": \"string\", \"description\": \"This is a string\"}, \"ag_002\": {\"type\": \"string\", \"description\": \"This is a string\"}, \"ag_003\": {\"type\": \"string\", \"description\": \"This is a string\"}, \"ag_004\": {\"type\": \"string\", \"description\": \"This is a string\"}, \"ag_005\": {\"type\": \"string\", \"description\": \"This is a string\"}, \"ag_006\": {\"type\": \"string\", \"description\": \"This is a string\"}, \"ag_007\": {\"type\": \"string\", \"description\": \"This is a string\"}, \"ag_008\": {\"type\": \"string\", \"description\": \"This is a string\"}, \"ag_009\": {\"type\": \"string\", \"description\": \"This is a string\"}, \"ah_000\": {\"type\": \"string\", \"description\": \"This is a string\"}, \"ai_000\": {\"type\": \"string\", \"description\": \"This is a string\"}, \"aj_000\": {\"type\": \"string\", \"description\": \"This is a string\"}, \"ak_000\": {\"type\": \"string\", \"description\": \"This is a string\"}, \"al_000\": {\"type\": \"string\", \"description\": \"This is a string\"}, \"am_0\": {\"type\": \"string\", \"description\": \"This is a string\"}, \"an_000\": {\"type\": \"string\", \"description\": \"This is a string\"}, \"ao_000\": {\"type\": \"string\", \"description\": \"This is a string\"}, \"ap_000\": {\"type\": \"string\", \"description\": \"This is a string\"}, \"aq_000\": {\"type\": \"string\", \"description\": \"This is a string\"}, \"ar_000\": {\"type\": \"string\", \"description\": \"This is a string\"}, \"as_000\": {\"type\": \"string\", \"description\": \"This is a string\"}, \"at_000\": {\"type\": \"string\", \"description\": \"This is a string\"}, \"au_000\": {\"type\": \"string\", \"description\": \"This is a string\"}, \"av_000\": {\"type\": \"string\", \"description\": \"This is a string\"}, \"ax_000\": {\"type\": \"string\", \"description\": \"This is a string\"}, \"ay_000\": {\"type\": \"string\", \"description\": \"This is a string\"}, \"ay_001\": {\"type\": \"string\", \"description\": \"This is a string\"}, \"ay_002\": {\"type\": \"string\", \"description\": \"This is a string\"}, \"ay_003\": {\"type\": \"string\", \"description\": \"This is a string\"}, \"ay_004\": {\"type\": \"string\", \"description\": \"This is a string\"}, \"ay_005\": {\"type\": \"string\", \"description\": \"This is a string\"}, \"ay_006\": {\"type\": \"string\", \"description\": \"This is a string\"}, \"ay_007\": {\"type\": \"string\", \"description\": \"This is a string\"}, \"ay_008\": {\"type\": \"string\", \"description\": \"This is a string\"}, \"ay_009\": {\"type\": \"string\", \"description\": \"This is a string\"}, \"az_000\": {\"type\": \"string\", \"description\": \"This is a string\"}, \"az_001\": {\"type\": \"string\", \"description\": \"This is a string\"}, \"az_002\": {\"type\": \"string\", \"description\": \"This is a string\"}, \"az_003\": {\"type\": \"string\", \"description\": \"This is a string\"}, \"az_004\": {\"type\": \"string\", \"description\": \"This is a string\"}, \"az_005\": {\"type\": \"string\", \"description\": \"This is a string\"}, \"az_006\": {\"type\": \"string\", \"description\": \"This is a string\"}, \"az_007\": {\"type\": \"string\", \"description\": \"This is a string\"}, \"az_008\": {\"type\": \"string\", \"description\": \"This is a string\"}, \"az_009\": {\"type\": \"string\", \"description\": \"This is a string\"}, \"ba_000\": {\"type\": \"string\", \"description\": \"This is a string\"}, \"ba_001\": {\"type\": \"string\", \"description\": \"This is a string\"}, \"ba_002\": {\"type\": \"string\", \"description\": \"This is a string\"}, \"ba_003\": {\"type\": \"string\", \"description\": \"This is a string\"}, \"ba_004\": {\"type\": \"string\", \"description\": \"This is a string\"}, \"ba_005\": {\"type\": \"string\", \"description\": \"This is a string\"}, \"ba_006\": {\"type\": \"string\", \"description\": \"This is a string\"}, \"ba_007\": {\"type\": \"string\", \"description\": \"This is a string\"}, \"ba_008\": {\"type\": \"string\", \"description\": \"This is a string\"}, \"ba_009\": {\"type\": \"string\", \"description\": \"This is a string\"}, \"bb_000\": {\"type\": \"string\", \"description\": \"This is a string\"}, \"bc_000\": {\"type\": \"string\", \"description\": \"This is a string\"}, \"bd_000\": {\"type\": \"string\", \"description\": \"This is a string\"}, \"be_000\": {\"type\": \"string\", \"description\": \"This is a string\"}, \"bf_000\": {\"type\": \"string\", \"description\": \"This is a string\"}, \"bg_000\": {\"type\": \"string\", \"description\": \"This is a string\"}, \"bh_000\": {\"type\": \"string\", \"description\": \"This is a string\"}, \"bi_000\": {\"type\": \"string\", \"description\": \"This is a string\"}, \"bj_000\": {\"type\": \"string\", \"description\": \"This is a string\"}, \"bk_000\": {\"type\": \"string\", \"description\": \"This is a string\"}, \"bl_000\": {\"type\": \"string\", \"description\": \"This is a string\"}, \"bm_000\": {\"type\": \"string\", \"description\": \"This is a string\"}, \"bn_000\": {\"type\": \"string\", \"description\": \"This is a string\"}, \"bo_000\": {\"type\": \"string\", \"description\": \"This is a string\"}, \"bp_000\": {\"type\": \"string\", \"description\": \"This is a string\"}, \"bq_000\": {\"type\": \"string\", \"description\": \"This is a string\"}, \"br_000\": {\"type\": \"string\", \"description\": \"This is a string\"}, \"bs_000\": {\"type\": \"string\", \"description\": \"This is a string\"}, \"bt_000\": {\"type\": \"string\", \"description\": \"This is a string\"}, \"bu_000\": {\"type\": \"string\", \"description\": \"This is a string\"}, \"bv_000\": {\"type\": \"string\", \"description\": \"This is a string\"}, \"bx_000\": {\"type\": \"string\", \"description\": \"This is a string\"}, \"by_000\": {\"type\": \"string\", \"description\": \"This is a string\"}, \"bz_000\": {\"type\": \"string\", \"description\": \"This is a string\"}, \"ca_000\": {\"type\": \"string\", \"description\": \"This is a string\"}, \"cb_000\": {\"type\": \"string\", \"description\": \"This is a string\"}, \"cc_000\": {\"type\": \"string\", \"description\": \"This is a string\"}, \"cd_000\": {\"type\": \"string\", \"description\": \"This is a string\"}, \"ce_000\": {\"type\": \"string\", \"description\": \"This is a string\"}, \"cf_000\": {\"type\": \"string\", \"description\": \"This is a string\"}, \"cg_000\": {\"type\": \"string\", \"description\": \"This is a string\"}, \"ch_000\": {\"type\": \"string\", \"description\": \"This is a string\"}, \"ci_000\": {\"type\": \"string\", \"description\": \"This is a string\"}, \"cj_000\": {\"type\": \"string\", \"description\": \"This is a string\"}, \"ck_000\": {\"type\": \"string\", \"description\": \"This is a string\"}, \"cl_000\": {\"type\": \"string\", \"description\": \"This is a string\"}, \"cm_000\": {\"type\": \"string\", \"description\": \"This is a string\"}, \"cn_000\": {\"type\": \"string\", \"description\": \"This is a string\"}, \"cn_001\": {\"type\": \"string\", \"description\": \"This is a string\"}, \"cn_002\": {\"type\": \"string\", \"description\": \"This is a string\"}, \"cn_003\": {\"type\": \"string\", \"description\": \"This is a string\"}, \"cn_004\": {\"type\": \"string\", \"description\": \"This is a string\"}, \"cn_005\": {\"type\": \"string\", \"description\": \"This is a string\"}, \"cn_006\": {\"type\": \"string\", \"description\": \"This is a string\"}, \"cn_007\": {\"type\": \"string\", \"description\": \"This is a string\"}, \"cn_008\": {\"type\": \"string\", \"description\": \"This is a string\"}, \"cn_009\": {\"type\": \"string\", \"description\": \"This is a string\"}, \"co_000\": {\"type\": \"string\", \"description\": \"This is a string\"}, \"cp_000\": {\"type\": \"string\", \"description\": \"This is a string\"}, \"cq_000\": {\"type\": \"string\", \"description\": \"This is a string\"}, \"cr_000\": {\"type\": \"string\", \"description\": \"This is a string\"}, \"cs_000\": {\"type\": \"string\", \"description\": \"This is a string\"}, \"cs_001\": {\"type\": \"string\", \"description\": \"This is a string\"}, \"cs_002\": {\"type\": \"string\", \"description\": \"This is a string\"}, \"cs_003\": {\"type\": \"string\", \"description\": \"This is a string\"}, \"cs_004\": {\"type\": \"string\", \"description\": \"This is a string\"}, \"cs_005\": {\"type\": \"string\", \"description\": \"This is a string\"}, \"cs_006\": {\"type\": \"string\", \"description\": \"This is a string\"}, \"cs_007\": {\"type\": \"string\", \"description\": \"This is a string\"}, \"cs_008\": {\"type\": \"string\", \"description\": \"This is a string\"}, \"cs_009\": {\"type\": \"string\", \"description\": \"This is a string\"}, \"ct_000\": {\"type\": \"string\", \"description\": \"This is a string\"}, \"cu_000\": {\"type\": \"string\", \"description\": \"This is a string\"}, \"cv_000\": {\"type\": \"string\", \"description\": \"This is a string\"}, \"cx_000\": {\"type\": \"string\", \"description\": \"This is a string\"}, \"cy_000\": {\"type\": \"string\", \"description\": \"This is a string\"}, \"cz_000\": {\"type\": \"string\", \"description\": \"This is a string\"}, \"da_000\": {\"type\": \"string\", \"description\": \"This is a string\"}, \"db_000\": {\"type\": \"string\", \"description\": \"This is a string\"}, \"dc_000\": {\"type\": \"string\", \"description\": \"This is a string\"}, \"dd_000\": {\"type\": \"string\", \"description\": \"This is a string\"}, \"de_000\": {\"type\": \"string\", \"description\": \"This is a string\"}, \"df_000\": {\"type\": \"string\", \"description\": \"This is a string\"}, \"dg_000\": {\"type\": \"string\", \"description\": \"This is a string\"}, \"dh_000\": {\"type\": \"string\", \"description\": \"This is a string\"}, \"di_000\": {\"type\": \"string\", \"description\": \"This is a string\"}, \"dj_000\": {\"type\": \"string\", \"description\": \"This is a string\"}, \"dk_000\": {\"type\": \"string\", \"description\": \"This is a string\"}, \"dl_000\": {\"type\": \"string\", \"description\": \"This is a string\"}, \"dm_000\": {\"type\": \"string\", \"description\": \"This is a string\"}, \"dn_000\": {\"type\": \"string\", \"description\": \"This is a string\"}, \"do_000\": {\"type\": \"string\", \"description\": \"This is a string\"}, \"dp_000\": {\"type\": \"string\", \"description\": \"This is a string\"}, \"dq_000\": {\"type\": \"string\", \"description\": \"This is a string\"}, \"dr_000\": {\"type\": \"string\", \"description\": \"This is a string\"}, \"ds_000\": {\"type\": \"string\", \"description\": \"This is a string\"}, \"dt_000\": {\"type\": \"string\", \"description\": \"This is a string\"}, \"du_000\": {\"type\": \"string\", \"description\": \"This is a string\"}, \"dv_000\": {\"type\": \"string\", \"description\": \"This is a string\"}, \"dx_000\": {\"type\": \"string\", \"description\": \"This is a string\"}, \"dy_000\": {\"type\": \"string\", \"description\": \"This is a string\"}, \"dz_000\": {\"type\": \"string\", \"description\": \"This is a string\"}, \"ea_000\": {\"type\": \"string\", \"description\": \"This is a string\"}, \"eb_000\": {\"type\": \"string\", \"description\": \"This is a string\"}, \"ec_00\": {\"type\": \"string\", \"description\": \"This is a string\"}, \"ed_000\": {\"type\": \"string\", \"description\": \"This is a string\"}, \"ee_000\": {\"type\": \"string\", \"description\": \"This is a string\"}, \"ee_001\": {\"type\": \"string\", \"description\": \"This is a string\"}, \"ee_002\": {\"type\": \"string\", \"description\": \"This is a string\"}, \"ee_003\": {\"type\": \"string\", \"description\": \"This is a string\"}, \"ee_004\": {\"type\": \"string\", \"description\": \"This is a string\"}, \"ee_005\": {\"type\": \"string\", \"description\": \"This is a string\"}, \"ee_006\": {\"type\": \"string\", \"description\": \"This is a string\"}, \"ee_007\": {\"type\": \"string\", \"description\": \"This is a string\"}, \"ee_008\": {\"type\": \"string\", \"description\": \"This is a string\"}, \"ee_009\": {\"type\": \"string\", \"description\": \"This is a string\"}, \"ef_000\": {\"type\": \"string\", \"description\": \"This is a string\"}, \"eg_000\": {\"type\": \"string\", \"description\": \"This is a string\"}}, \"required\": [\"class\", \"aa_000\", \"ab_000\", \"ac_000\", \"ad_000\", \"ae_000\", \"af_000\", \"ag_000\", \"ag_001\", \"ag_002\", \"ag_003\", \"ag_004\", \"ag_005\", \"ag_006\", \"ag_007\", \"ag_008\", \"ag_009\", \"ah_000\", \"ai_000\", \"aj_000\", \"ak_000\", \"al_000\", \"am_0\", \"an_000\", \"ao_000\", \"ap_000\", \"aq_000\", \"ar_000\", \"as_000\", \"at_000\", \"au_000\", \"av_000\", \"ax_000\", \"ay_000\", \"ay_001\", \"ay_002\", \"ay_003\", \"ay_004\", \"ay_005\", \"ay_006\", \"ay_007\", \"ay_008\", \"ay_009\", \"az_000\", \"az_001\", \"az_002\", \"az_003\", \"az_004\", \"az_005\", \"az_006\", \"az_007\", \"az_008\", \"az_009\", \"ba_000\", \"ba_001\", \"ba_002\", \"ba_003\", \"ba_004\", \"ba_005\", \"ba_006\", \"ba_007\", \"ba_008\", \"ba_009\", \"bb_000\", \"bc_000\", \"bd_000\", \"be_000\", \"bf_000\", \"bg_000\", \"bh_000\", \"bi_000\", \"bj_000\", \"bk_000\", \"bl_000\", \"bm_000\", \"bn_000\", \"bo_000\", \"bp_000\", \"bq_000\", \"br_000\", \"bs_000\", \"bt_000\", \"bu_000\", \"bv_000\", \"bx_000\", \"by_000\", \"bz_000\", \"ca_000\", \"cb_000\", \"cc_000\", \"cd_000\", \"ce_000\", \"cf_000\", \"cg_000\", \"ch_000\", \"ci_000\", \"cj_000\", \"ck_000\", \"cl_000\", \"cm_000\", \"cn_000\", \"cn_001\", \"cn_002\", \"cn_003\", \"cn_004\", \"cn_005\", \"cn_006\", \"cn_007\", \"cn_008\", \"cn_009\", \"co_000\", \"cp_000\", \"cq_000\", \"cr_000\", \"cs_000\", \"cs_001\", \"cs_002\", \"cs_003\", \"cs_004\", \"cs_005\", \"cs_006\", \"cs_007\", \"cs_008\", \"cs_009\", \"ct_000\", \"cu_000\", \"cv_000\", \"cx_000\", \"cy_000\", \"cz_000\", \"da_000\", \"db_000\", \"dc_000\", \"dd_000\", \"de_000\", \"df_000\", \"dg_000\", \"dh_000\", \"di_000\", \"dj_000\", \"dk_000\", \"dl_000\", \"dm_000\", \"dn_000\", \"do_000\", \"dp_000\", \"dq_000\", \"dr_000\", \"ds_000\", \"dt_000\", \"du_000\", \"dv_000\", \"dx_000\", \"dy_000\", \"dz_000\", \"ea_000\", \"eb_000\", \"ec_00\", \"ed_000\", \"ee_000\", \"ee_001\", \"ee_002\", \"ee_003\", \"ee_004\", \"ee_005\", \"ee_006\", \"ee_007\", \"ee_008\", \"ee_009\", \"ef_000\", \"eg_000\"]}, \"description\": \"Schema for batch of records\", \"title\": \"SampleRecord\"}\n"
     ]
    }
   ],
   "source": [
    "import pandas as pd\n",
    "from Confg import *\n",
    "import numpy as np\n",
    "import os"
   ]
  },
  {
   "cell_type": "code",
   "execution_count": 5,
   "metadata": {},
   "outputs": [],
   "source": [
    "from confluent_kafka import Producer,Consumer\n",
    "from confluent_kafka.serialization import SerializationContext, MessageField\n",
    "from confluent_kafka.schema_registry import SchemaRegistryClient\n",
    "from confluent_kafka.schema_registry.json_schema import JSONSerializer,JSONDeserializer\n",
    "from confluent_kafka.serialization import StringSerializer,StringDeserializer"
   ]
  },
  {
   "cell_type": "code",
   "execution_count": null,
   "metadata": {},
   "outputs": [],
   "source": [
    "data_directory='D:\\DataScience\\Projects\\SensorProject\\End-To-End-ML-Project\\Data'"
   ]
  },
  {
   "cell_type": "code",
   "execution_count": null,
   "metadata": {},
   "outputs": [],
   "source": [
    "!pwd"
   ]
  },
  {
   "cell_type": "code",
   "execution_count": null,
   "metadata": {},
   "outputs": [],
   "source": [
    "for topic in os.listdir(data_directory):\n",
    "    topic_path=os.path.join(data_directory, topic)\n",
    "    for file in os.listdir(topic_path):\n",
    "\n",
    "        df=pd.read_csv(os.path.join(topic_path,file),chunksize=1000)\n",
    "        for chunk in df:\n",
    "            for index,row in chunk.iterrows():\n",
    "                data=row.to_dict()\n",
    "                # SEND THIS DATA TO THE KAFKA TOPIC\n",
    "                \n",
    "        \n"
   ]
  },
  {
   "cell_type": "code",
   "execution_count": null,
   "metadata": {},
   "outputs": [],
   "source": [
    "df=chunk.head()"
   ]
  },
  {
   "cell_type": "code",
   "execution_count": null,
   "metadata": {},
   "outputs": [],
   "source": [
    "df"
   ]
  },
  {
   "cell_type": "code",
   "execution_count": null,
   "metadata": {},
   "outputs": [],
   "source": [
    "schemaregistryclient=SchemaRegistryClient(schema_config)\n"
   ]
  },
  {
   "cell_type": "code",
   "execution_count": null,
   "metadata": {},
   "outputs": [],
   "source": [
    "# Create schema string\n",
    "import json\n",
    "with open(os.path.join(topic_path,file),'r') as file_object:\n",
    "    columns=file_object.readline().strip().split(',')\n",
    "schema_string={ \"$id\": \"http://example.com/myURI.schema.json\",\n",
    "            \"$schema\": \"http://json-schema.org/draft-07/schema#\",\n",
    "            \"additionalProperties\": False,\n",
    "            \"description\": \"Sample schema to help you get started.\",\n",
    "            \"properties\": dict(),\n",
    "            \"title\": \"SampleRecord\",\n",
    "            \"type\": \"object\"}\n",
    "for col in columns:\n",
    "    schema_string['properties'].update({col: {\"type\": \"string\",\"description\": \"This is a string\"}})\n",
    "schema_string=json.dumps(schema_string)\n",
    "print(schema_string)"
   ]
  },
  {
   "cell_type": "code",
   "execution_count": 1,
   "metadata": {},
   "outputs": [
    {
     "ename": "NameError",
     "evalue": "name 'SchemaRegistryClient' is not defined",
     "output_type": "error",
     "traceback": [
      "\u001b[1;31m---------------------------------------------------------------------------\u001b[0m",
      "\u001b[1;31mNameError\u001b[0m                                 Traceback (most recent call last)",
      "Cell \u001b[1;32mIn[1], line 2\u001b[0m\n\u001b[0;32m      1\u001b[0m \u001b[38;5;66;03m# Setup schema registry client and serializer\u001b[39;00m\n\u001b[1;32m----> 2\u001b[0m schemaregistryclient\u001b[38;5;241m=\u001b[39m\u001b[43mSchemaRegistryClient\u001b[49m(schema_config)\n\u001b[0;32m      3\u001b[0m json_serializer\u001b[38;5;241m=\u001b[39mJSONSerializer(schema_string,schemaregistryclient)\n\u001b[0;32m      4\u001b[0m string_serializer \u001b[38;5;241m=\u001b[39m StringSerializer(\u001b[38;5;124m'\u001b[39m\u001b[38;5;124mutf_8\u001b[39m\u001b[38;5;124m'\u001b[39m)\n",
      "\u001b[1;31mNameError\u001b[0m: name 'SchemaRegistryClient' is not defined"
     ]
    }
   ],
   "source": [
    "# Setup schema registry client and serializer\n",
    "schemaregistryclient=SchemaRegistryClient(schema_config)\n",
    "json_serializer=JSONSerializer(schema_string,schemaregistryclient)\n",
    "string_serializer = StringSerializer('utf_8')"
   ]
  },
  {
   "cell_type": "code",
   "execution_count": null,
   "metadata": {},
   "outputs": [],
   "source": [
    "#Setup producer\n",
    "producer=Producer(kafka_config)"
   ]
  },
  {
   "cell_type": "code",
   "execution_count": null,
   "metadata": {},
   "outputs": [],
   "source": [
    "# SENDING DATA\n",
    "from uuid import uuid4\n",
    "topic='sensor_topic1'\n",
    "for index,row in df.iterrows():\n",
    "    data=row.astype(str).to_dict()\n",
    "    producer.produce(topic=topic,key=string_serializer(str(uuid4()), data),value=json_serializer(data,SerializationContext(topic,MessageField.VALUE)))\n",
    "\n"
   ]
  },
  {
   "cell_type": "code",
   "execution_count": null,
   "metadata": {},
   "outputs": [],
   "source": [
    "from uuid import uuid4"
   ]
  },
  {
   "cell_type": "code",
   "execution_count": null,
   "metadata": {},
   "outputs": [],
   "source": [
    "row.astype(str).to_dict()"
   ]
  },
  {
   "cell_type": "code",
   "execution_count": null,
   "metadata": {},
   "outputs": [],
   "source": [
    "df"
   ]
  },
  {
   "cell_type": "code",
   "execution_count": 3,
   "metadata": {},
   "outputs": [],
   "source": [
    "from Database import mongodb"
   ]
  },
  {
   "cell_type": "code",
   "execution_count": null,
   "metadata": {},
   "outputs": [],
   "source": [
    "a=sql.SQL()"
   ]
  },
  {
   "cell_type": "code",
   "execution_count": 4,
   "metadata": {},
   "outputs": [],
   "source": [
    "! cd ."
   ]
  },
  {
   "cell_type": "code",
   "execution_count": 16,
   "metadata": {},
   "outputs": [],
   "source": [
    "kafka_config.update({'group.id':'group_consumersensor23','auto.offset.reset': 'earliest','enable.auto.commit':False})\n",
    "consumer=Consumer(kafka_config)\n",
    "json_deserializer=JSONDeserializer(schema_string)   \n",
    "consumer.subscribe(['sensortopic'])\n",
    "msg=consumer.poll(1.0)\n"
   ]
  },
  {
   "cell_type": "code",
   "execution_count": 32,
   "metadata": {},
   "outputs": [],
   "source": [
    "import sys\n",
    "import traceback\n",
    "class SensorException(Exception):\n",
    "    def __init__(self,message):\n",
    "        super().__init__(self,message)\n",
    "        _,_,tb=sys.exc_info()\n",
    "        print(sys.exc_info())\n",
    "        print(tb.tb_frame.f_code.co_filename)\n"
   ]
  },
  {
   "cell_type": "code",
   "execution_count": 39,
   "metadata": {},
   "outputs": [],
   "source": [
    "import logging\n",
    "import os,shutil,sys\n",
    "class Logger:\n",
    "    def __init__(self,filename):\n",
    "        if not os.path.exists(\"Logs\"):\n",
    "            os.mkdir(\"Logs\")\n",
    "        self.log_dir=os.path.join(os.getcwd(), \"Logs\")\n",
    "        self.logger=logging.getLogger()\n",
    "        self.logger.setLevel(logging.INFO)\n",
    "        self.file_handler=logging.FileHandler(os.path.join(self.log_dir,filename))\n",
    "        self.formatter = logging.Formatter('%(asctime)s - %(name)s - %(levelname)s - %(message)s')\n",
    "        self.file_handler.setFormatter(self.formatter)\n",
    "\n",
    "    def log_message(self,message):\n",
    "        self.logger.info(message)"
   ]
  },
  {
   "cell_type": "code",
   "execution_count": 40,
   "metadata": {},
   "outputs": [],
   "source": [
    "logger=Logger(\"main.log\")\n",
    "logger.log_message(\"Main\")"
   ]
  },
  {
   "cell_type": "code",
   "execution_count": 43,
   "metadata": {},
   "outputs": [
    {
     "ename": "ModuleNotFoundError",
     "evalue": "No module named 'Sensor'",
     "output_type": "error",
     "traceback": [
      "\u001b[1;31m---------------------------------------------------------------------------\u001b[0m",
      "\u001b[1;31mModuleNotFoundError\u001b[0m                       Traceback (most recent call last)",
      "Cell \u001b[1;32mIn[43], line 2\u001b[0m\n\u001b[0;32m      1\u001b[0m \u001b[38;5;28;01mimport\u001b[39;00m \u001b[38;5;21;01mpymongo\u001b[39;00m\n\u001b[1;32m----> 2\u001b[0m \u001b[38;5;28;01mfrom\u001b[39;00m \u001b[38;5;21;01mSensor\u001b[39;00m\u001b[38;5;21;01m.\u001b[39;00m\u001b[38;5;21;01mConstant\u001b[39;00m\u001b[38;5;21;01m.\u001b[39;00m\u001b[38;5;21;01mdatabase\u001b[39;00m \u001b[38;5;28;01mimport\u001b[39;00m \u001b[38;5;241m*\u001b[39m\n\u001b[0;32m      3\u001b[0m mongodbclient\u001b[38;5;241m=\u001b[39mpymongo\u001b[38;5;241m.\u001b[39mMongoClient(url)\n\u001b[0;32m      4\u001b[0m db\u001b[38;5;241m=\u001b[39mmongodbclient[database]\n",
      "\u001b[1;31mModuleNotFoundError\u001b[0m: No module named 'Sensor'"
     ]
    }
   ],
   "source": [
    "import pymongo\n",
    "from Sensor.Constant.database import *\n",
    "mongodbclient=pymongo.MongoClient(url)\n",
    "db=mongodbclient[database]\n",
    "collection=db[\"new\"]"
   ]
  },
  {
   "cell_type": "code",
   "execution_count": 46,
   "metadata": {},
   "outputs": [],
   "source": [
    "import logging\n",
    "import os,shutil,sys\n",
    "import shutil\n",
    "class Logger:\n",
    "    def __init__(self,log_dir,filename):\n",
    "        self.log_dir=log_dir\n",
    "        self.logger=logging.getLogger()\n",
    "        self.logger.setLevel(logging.INFO)\n",
    "        if os.path.exists(os.path.join(self.log_dir,filename)):\n",
    "            shutil.rmtree(os.path.join(self.log_dir,filename))\n",
    "            #os.mkdir(os.path.join(self.log_dir,filename))\n",
    "            #os.mkdir(os.path.join(self.log_dir,filename))\n",
    "        self.file_handler=logging.FileHandler(os.path.join(self.log_dir,filename))\n",
    "        self.formatter = logging.Formatter('%(asctime)s - %(name)s - %(levelname)s - %(message)s')\n",
    "        self.file_handler.setFormatter(self.formatter)\n",
    "        self.logger.addHandler(self.file_handler)\n",
    "\n",
    "    def log_message(self,message):\n",
    "        self.logger.info(message)\n",
    "    "
   ]
  },
  {
   "cell_type": "code",
   "execution_count": 48,
   "metadata": {},
   "outputs": [],
   "source": [
    "logger=Logger('D:\\DataScience\\Projects\\SensorProject\\End-To-End-ML-Project\\Logs','main.log')\n"
   ]
  }
 ],
 "metadata": {
  "kernelspec": {
   "display_name": "sensorfault",
   "language": "python",
   "name": "python3"
  },
  "language_info": {
   "codemirror_mode": {
    "name": "ipython",
    "version": 3
   },
   "file_extension": ".py",
   "mimetype": "text/x-python",
   "name": "python",
   "nbconvert_exporter": "python",
   "pygments_lexer": "ipython3",
   "version": "3.11.4"
  }
 },
 "nbformat": 4,
 "nbformat_minor": 2
}
